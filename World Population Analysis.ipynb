{
  "metadata": {
    "kernelspec": {
      "language": "python",
      "display_name": "Python 3",
      "name": "python3"
    },
    "language_info": {
      "pygments_lexer": "ipython3",
      "nbconvert_exporter": "python",
      "version": "3.6.4",
      "file_extension": ".py",
      "codemirror_mode": {
        "name": "ipython",
        "version": 3
      },
      "name": "python",
      "mimetype": "text/x-python"
    },
    "colab": {
      "name": "👨‍👩‍👧‍👦World Population 〽️Analysis",
      "provenance": [],
      "include_colab_link": true
    }
  },
  "nbformat_minor": 0,
  "nbformat": 4,
  "cells": [
    {
      "cell_type": "markdown",
      "metadata": {
        "id": "view-in-github",
        "colab_type": "text"
      },
      "source": [
        "<a href=\"https://colab.research.google.com/github/carolineakello/Flood-Analysis/blob/main/World%20Population%20Analysis.ipynb\" target=\"_parent\"><img src=\"https://colab.research.google.com/assets/colab-badge.svg\" alt=\"Open In Colab\"/></a>"
      ]
    },
    {
      "source": [
        "# IMPORTANT: RUN THIS CELL IN ORDER TO IMPORT YOUR KAGGLE DATA SOURCES,\n",
        "# THEN FEEL FREE TO DELETE THIS CELL.\n",
        "# NOTE: THIS NOTEBOOK ENVIRONMENT DIFFERS FROM KAGGLE'S PYTHON\n",
        "# ENVIRONMENT SO THERE MAY BE MISSING LIBRARIES USED BY YOUR\n",
        "# NOTEBOOK.\n",
        "import kagglehub\n",
        "iamsouravbanerjee_world_population_dataset_path = kagglehub.dataset_download('iamsouravbanerjee/world-population-dataset')\n",
        "\n",
        "print('Data source import complete.')\n"
      ],
      "metadata": {
        "id": "xDRvgFSTn-GJ"
      },
      "cell_type": "code",
      "outputs": [],
      "execution_count": null
    },
    {
      "cell_type": "markdown",
      "source": [
        "# <p style=\"padding:10px;background-color:#006837;margin:0;color:#e9c46a;font-family:newtimeroman;font-size:150%;text-align:center;border-radius: 15px 50px;overflow:hidden;font-weight:500\">World Population Analysis</p>\n",
        "\n",
        "<p style=\"text-align:center; \">\n",
        "<img src=\"https://thumbs.dreamstime.com/b/world-population-13912340.jpg\" style='width: 350px; height: 350px;'>\n",
        "</p>\n",
        "\n",
        "<p style=\"text-align:justify; \">\n",
        "The current US Census Bureau world population estimate in June 2019 shows that the current global population is 7,577,130,400 people on earth, which far exceeds the world population of 7.2 billion from 2015. Our own estimate based on UN data shows the world's population surpassing 7.7 billion.\n",
        "<br><br>\n",
        "China is the most populous country in the world with a population exceeding 1.4 billion. It is one of just two countries with a population of more than 1 billion, with India being the second. As of 2018, India has a population of over 1.355 billion people, and its population growth is expected to continue through at least 2050. By the year 2030, the country of India is expected to become the most populous country in the world. This is because India’s population will grow, while China is projected to see a loss in population.\n",
        "<br><br>\n",
        "The next 11 countries that are the most populous in the world each have populations exceeding 100 million. These include the United States, Indonesia, Brazil, Pakistan, Nigeria, Bangladesh, Russia, Mexico, Japan, Ethiopia, and the Philippines. Of these nations, all are expected to continue to grow except Russia and Japan, which will see their populations drop by 2030 before falling again significantly by 2050.\n",
        "<br> <br>   \n",
        "Many other nations have populations of at least one million, while there are also countries that have just thousands. The smallest population in the world can be found in Vatican City, where only 801 people reside.\n",
        "</p>    \n",
        "\n",
        "<a id='top'></a>\n",
        "<div class=\"list-group\" id=\"list-tab\" role=\"tablist\">\n",
        "<p style=\"padding:10px;background-color:#006837;margin:0;color:#e9c46a;font-family:newtimeroman;font-size:130%;text-align:center;border-radius: 15px 50px;overflow:hidden;font-weight:500\">Table Of Contents</p>   \n",
        "    \n",
        "     \n",
        "   \n",
        "|No  | Contents |No  | Contents  |\n",
        "|:---| :---     |:---| :----     |\n",
        "|1   | [<font color=\"#006837\"> Importing Libraries</font>](#1)                   |7   | [<font color=\"#006837\"> Population Density</font>](#7)                 |\n",
        "|2   | [<font color=\"#006837\"> About Dataset</font>](#2)                         |8   | [<font color=\"#006837\"> Population Growth Rate</font>](#8)   |     \n",
        "|3   | [<font color=\"#006837\"> Basic Exploration</font>](#3)                     |9  | [<font color=\"#006837\"> Country Rank</font>](#9)|\n",
        "|4   | [<font color=\"#006837\"> Dataset Summary</font>](#4)                       |10  | [<font color=\"#006837\"> Correlation Map</font>](#10)   |       \n",
        "|5   | [<font color=\"#006837\"> Custom Palette For Visualization</font>](#5)      |11  | [<font color=\"#006837\"> Thank You</font>](#11)    |     \n",
        "|6   | [<font color=\"#006837\"> Population</font>](#6)              |\n",
        "   \n",
        "   "
      ],
      "metadata": {
        "id": "E6nSWm2zn-GN"
      }
    },
    {
      "cell_type": "markdown",
      "source": [
        "<a id=\"1\"></a>\n",
        "# <p style=\"padding:10px;background-color:#006837;margin:0;color:#e9c46a;font-family:newtimeroman;font-size:100%;text-align:center;border-radius: 15px 50px;overflow:hidden;font-weight:500\">Importing Libraries</p>"
      ],
      "metadata": {
        "id": "cZDGBzk5n-GP"
      }
    },
    {
      "cell_type": "code",
      "source": [
        "import numpy as np\n",
        "import pandas as pd\n",
        "import matplotlib.pyplot as plt\n",
        "import seaborn as sns\n",
        "import plotly.express as px\n",
        "import plotly.graph_objects as go\n",
        "from sklearn.preprocessing import LabelEncoder\n",
        "\n",
        "import warnings\n",
        "warnings.filterwarnings('ignore')\n",
        "\n",
        "\n",
        "from plotly.offline import init_notebook_mode\n",
        "init_notebook_mode(connected=True)"
      ],
      "metadata": {
        "_kg_hide-input": true,
        "execution": {
          "iopub.status.busy": "2022-11-30T15:57:50.325781Z",
          "iopub.execute_input": "2022-11-30T15:57:50.326274Z",
          "iopub.status.idle": "2022-11-30T15:57:50.33706Z",
          "shell.execute_reply.started": "2022-11-30T15:57:50.326236Z",
          "shell.execute_reply": "2022-11-30T15:57:50.335514Z"
        },
        "trusted": true,
        "id": "-fvLbF3Vn-GP"
      },
      "execution_count": null,
      "outputs": []
    },
    {
      "cell_type": "markdown",
      "source": [
        "<a id=\"2\"></a>\n",
        "# <p style=\"padding:10px;background-color:#006837;margin:0;color:#e9c46a;font-family:newtimeroman;font-size:100%;text-align:center;border-radius: 15px 50px;overflow:hidden;font-weight:500\">About Dataset</p>"
      ],
      "metadata": {
        "id": "ZRzwb2CIn-GQ"
      }
    },
    {
      "cell_type": "markdown",
      "source": [
        "* **Rank:** Rank by population\n",
        "* **CCA3:** 3 digit Country/Territories code\n",
        "* **Country:** Name of the Country/Territories\n",
        "* **Capital:** Name of the Capital\n",
        "* **Continent:** Name of the Continent\n",
        "* **2022 Population:** Population of the Country/Territories in the year 2022\n",
        "* **2020 Population:** Population of the Country/Territories in the year 2020\n",
        "* **2015 Population:** Population of the Country/Territories in the year 2015\n",
        "* **2010 Population:** Population of the Country/Territories in the year 2010\n",
        "* **2000 Population:** Population of the Country/Territories in the year 2000\n",
        "* **1990 Population:** Population of the Country/Territories in the year 1990\n",
        "* **1980 Population:** Population of the Country/Territories in the year 1980\n",
        "* **1970 Population:** Population of the Country/Territories in the year 1970\n",
        "* **Area (km²):** Area size of the Country/Territories in square kilometer\n",
        "* **Density (per km²):** Population density per square kilometer\n",
        "* **Growth Rate:** Population growth rate by Country/Territories\n",
        "* **World Population Percentage:** The population percentage by each Country/Territories"
      ],
      "metadata": {
        "id": "pRzTBC1ln-GR"
      }
    },
    {
      "cell_type": "code",
      "source": [
        "data = pd.read_csv(\"../input/world-population-dataset/world_population.csv\")"
      ],
      "metadata": {
        "_kg_hide-input": true,
        "execution": {
          "iopub.status.busy": "2022-11-30T15:57:55.581019Z",
          "iopub.execute_input": "2022-11-30T15:57:55.581488Z",
          "iopub.status.idle": "2022-11-30T15:57:55.591514Z",
          "shell.execute_reply.started": "2022-11-30T15:57:55.581451Z",
          "shell.execute_reply": "2022-11-30T15:57:55.590147Z"
        },
        "trusted": true,
        "id": "zifd1afbn-GR"
      },
      "execution_count": null,
      "outputs": []
    },
    {
      "cell_type": "markdown",
      "source": [
        "<a id=\"3\"></a>\n",
        "# <p style=\"padding:10px;background-color:#006837;margin:0;color:#e9c46a;font-family:newtimeroman;font-size:100%;text-align:center;border-radius: 15px 50px;overflow:hidden;font-weight:500\">Basic Exploration</p>\n",
        "\n",
        "\n",
        "**Let's have a glimpse of the dataset.**"
      ],
      "metadata": {
        "id": "zpYTvTf4n-GS"
      }
    },
    {
      "cell_type": "code",
      "source": [
        "print(f\"Shape Of The Dataset : {data.shape}\")\n",
        "print(f\"\\nGlimpse Of The Dataset :\")\n",
        "data.head().style.set_properties(**{\"background-color\": \"#006837\",\"color\":\"#e9c46a\",\"border\": \"1.5px solid black\"})"
      ],
      "metadata": {
        "_kg_hide-input": true,
        "execution": {
          "iopub.status.busy": "2022-11-30T15:57:58.69449Z",
          "iopub.execute_input": "2022-11-30T15:57:58.69518Z",
          "iopub.status.idle": "2022-11-30T15:57:58.729196Z",
          "shell.execute_reply.started": "2022-11-30T15:57:58.69514Z",
          "shell.execute_reply": "2022-11-30T15:57:58.728Z"
        },
        "trusted": true,
        "id": "T56sc63An-GS"
      },
      "execution_count": null,
      "outputs": []
    },
    {
      "cell_type": "code",
      "source": [
        "print(f\"Informations Of The Dataset :\\n\")\n",
        "print(data.info())"
      ],
      "metadata": {
        "_kg_hide-input": true,
        "execution": {
          "iopub.status.busy": "2022-11-30T15:58:23.260415Z",
          "iopub.execute_input": "2022-11-30T15:58:23.26085Z",
          "iopub.status.idle": "2022-11-30T15:58:23.277969Z",
          "shell.execute_reply.started": "2022-11-30T15:58:23.260816Z",
          "shell.execute_reply": "2022-11-30T15:58:23.276453Z"
        },
        "trusted": true,
        "id": "JDGbEuHTn-GT"
      },
      "execution_count": null,
      "outputs": []
    },
    {
      "cell_type": "markdown",
      "source": [
        "<a id=\"4\"></a>\n",
        "# <p style=\"padding:10px;background-color:#006837;margin:0;color:#e9c46a;font-family:newtimeroman;font-size:100%;text-align:center;border-radius: 15px 50px;overflow:hidden;font-weight:500\">Dataset Summary</p>"
      ],
      "metadata": {
        "id": "aib0mkHRn-GU"
      }
    },
    {
      "cell_type": "code",
      "source": [
        "print(f\"Summary Of The Dataset :\")\n",
        "data.describe().style.set_properties(**{\"background-color\": \"#006837\",\"color\":\"#e9c46a\",\"border\": \"1.5px solid black\"})"
      ],
      "metadata": {
        "_kg_hide-input": true,
        "execution": {
          "iopub.status.busy": "2022-11-30T15:58:32.22333Z",
          "iopub.execute_input": "2022-11-30T15:58:32.223776Z",
          "iopub.status.idle": "2022-11-30T15:58:32.292518Z",
          "shell.execute_reply.started": "2022-11-30T15:58:32.223738Z",
          "shell.execute_reply": "2022-11-30T15:58:32.290919Z"
        },
        "trusted": true,
        "id": "i9RIN2aKn-GU"
      },
      "execution_count": null,
      "outputs": []
    },
    {
      "cell_type": "code",
      "source": [
        "data.describe(include=object).T.style.set_properties(**{\"background-color\": \"#006837\",\"color\":\"#e9c46a\",\"border\": \"1.5px solid black\"})"
      ],
      "metadata": {
        "_kg_hide-input": true,
        "execution": {
          "iopub.status.busy": "2022-11-30T15:58:37.255722Z",
          "iopub.execute_input": "2022-11-30T15:58:37.256611Z",
          "iopub.status.idle": "2022-11-30T15:58:37.284536Z",
          "shell.execute_reply.started": "2022-11-30T15:58:37.256558Z",
          "shell.execute_reply": "2022-11-30T15:58:37.283257Z"
        },
        "trusted": true,
        "id": "YWsJphc_n-GV"
      },
      "execution_count": null,
      "outputs": []
    },
    {
      "cell_type": "code",
      "source": [
        "print(f\"Null values of the Dataset :\")\n",
        "data.isna().sum().to_frame().T.style.set_properties(**{\"background-color\": \"#006837\",\"color\":\"#e9c46a\",\"border\": \"1.5px solid black\"})"
      ],
      "metadata": {
        "_kg_hide-input": true,
        "execution": {
          "iopub.status.busy": "2022-11-30T15:58:40.683467Z",
          "iopub.execute_input": "2022-11-30T15:58:40.683896Z",
          "iopub.status.idle": "2022-11-30T15:58:40.717387Z",
          "shell.execute_reply.started": "2022-11-30T15:58:40.683859Z",
          "shell.execute_reply": "2022-11-30T15:58:40.716443Z"
        },
        "trusted": true,
        "id": "NXP3PPzon-GV"
      },
      "execution_count": null,
      "outputs": []
    },
    {
      "cell_type": "markdown",
      "source": [
        "**Insights:**\n",
        "\n",
        "* There is no missing values in this dataset.\n",
        "* We will encode the categorical features into numerical form later.\n"
      ],
      "metadata": {
        "id": "RXNTbUJJn-GV"
      }
    },
    {
      "cell_type": "markdown",
      "source": [
        "<a id=\"5\"></a>\n",
        "# <p style=\"padding:10px;background-color:#006837;margin:0;color:#e9c46a;font-family:newtimeroman;font-size:100%;text-align:center;border-radius: 15px 50px;overflow:hidden;font-weight:500\">Custom Palette For Visualization</p>"
      ],
      "metadata": {
        "id": "wqR4_n9xn-GW"
      }
    },
    {
      "cell_type": "code",
      "source": [
        "sns.set_style(\"white\")\n",
        "sns.set(rc={\"axes.facecolor\":\"#D5CE98\",\"figure.facecolor\":\"#D5CE98\"})\n",
        "sns.set_context(\"poster\",font_scale = .7)\n",
        "\n",
        "palette = [\"#006837\",\"#1A9850\",\"#66BD63\",\"#A6D96A\",\"#D9EF8B\",\"#FFFFBF\",\"#FEE08B\",\"#FDAE61\",\"#F46D43\",\"#D73027\",\"#A50026\"]\n",
        "palette_cmap = [\"#A50026\",\"#D73027\",\"#F46D43\",\"#FDAE61\",\"#FEE08B\",\"#FFFFBF\",\"#D9EF8B\",\"#A6D96A\",\"#66BD63\",\"#1A9850\",\"#006837\"]\n",
        "\n",
        "# sns.palplot(sns.color_palette(palette))\n",
        "# sns.palplot(sns.color_palette(palette_cmap))\n",
        "# plt.show()"
      ],
      "metadata": {
        "_kg_hide-input": true,
        "execution": {
          "iopub.status.busy": "2022-11-30T15:58:46.169008Z",
          "iopub.execute_input": "2022-11-30T15:58:46.169896Z",
          "iopub.status.idle": "2022-11-30T15:58:46.178039Z",
          "shell.execute_reply.started": "2022-11-30T15:58:46.169856Z",
          "shell.execute_reply": "2022-11-30T15:58:46.176544Z"
        },
        "trusted": true,
        "id": "bTYHUWODn-GW"
      },
      "execution_count": null,
      "outputs": []
    },
    {
      "cell_type": "markdown",
      "source": [
        "<a id=\"6\"></a>\n",
        "# <p style=\"padding:10px;background-color:#006837;margin:0;color:#e9c46a;font-family:newtimeroman;font-size:100%;text-align:center;border-radius: 15px 50px;overflow:hidden;font-weight:500\">Population</p>"
      ],
      "metadata": {
        "id": "CPeoOklUn-GX"
      }
    },
    {
      "cell_type": "code",
      "source": [
        "print(f\"Let's have a look on the population :\")\n",
        "_, axs = plt.subplots(2,1,figsize=(20,16))\n",
        "plt.tight_layout(pad=7.0)\n",
        "\n",
        "sns.barplot(x=data[\"Country/Territory\"],y=data[\"2022 Population\"],order=data.sort_values(\"2022 Population\",ascending=True)[\"Country/Territory\"][:11],ax=axs[0],palette=palette, saturation=1,edgecolor = \"#1c1c1c\", linewidth = 4)\n",
        "axs[0].set_yscale(\"linear\")\n",
        "axs[0].set_title(\"Least Populated Countries In 2022\",fontsize=25)\n",
        "axs[0].set_xlabel(\"\\nCountry\",fontsize=20)\n",
        "axs[0].set_ylabel(\"Population\",fontsize=20)\n",
        "axs[0].set_xticklabels(axs[0].get_xticklabels(),rotation = 12)\n",
        "for container in axs[0].containers:\n",
        "    axs[0].bar_label(container,label_type=\"center\",padding=6,size=18,color=\"black\",rotation=0,\n",
        "    bbox={\"boxstyle\": \"round\", \"pad\": 0.4, \"facecolor\": \"orange\", \"edgecolor\": \"#1c1c1c\", \"linewidth\" : 3, \"alpha\": 1})\n",
        "\n",
        "\n",
        "sns.barplot(x=data[\"Country/Territory\"],y=data[\"2022 Population\"],order=data.sort_values(\"2022 Population\",ascending=False)[\"Country/Territory\"][:11],ax=axs[1],palette=palette, saturation=1,edgecolor = \"#1c1c1c\", linewidth = 4)\n",
        "axs[1].set_yscale(\"log\")\n",
        "axs[1].set_title(\"Top Populated Countries In 2022\",fontsize=25)\n",
        "axs[1].set_xlabel(\"\\nCountry\",fontsize=20)\n",
        "axs[1].set_ylabel(\"Population\",fontsize=20)\n",
        "axs[1].set_xticklabels(axs[1].get_xticklabels(),rotation = 0)\n",
        "for container in axs[1].containers:\n",
        "    axs[1].bar_label(container,label_type=\"edge\",padding=6,size=18,color=\"black\",rotation=0,\n",
        "    bbox={\"boxstyle\": \"round\", \"pad\": 0.4, \"facecolor\": \"orange\", \"edgecolor\": \"#1c1c1c\", \"linewidth\" : 3, \"alpha\": 1})\n",
        "\n",
        "\n",
        "sns.despine(left=True, bottom=True)\n",
        "plt.show()"
      ],
      "metadata": {
        "_kg_hide-input": true,
        "execution": {
          "iopub.status.busy": "2022-11-30T15:59:54.950535Z",
          "iopub.execute_input": "2022-11-30T15:59:54.951006Z",
          "iopub.status.idle": "2022-11-30T15:59:56.306235Z",
          "shell.execute_reply.started": "2022-11-30T15:59:54.950971Z",
          "shell.execute_reply": "2022-11-30T15:59:56.304568Z"
        },
        "trusted": true,
        "id": "_b6XRmuLn-GX"
      },
      "execution_count": null,
      "outputs": []
    },
    {
      "cell_type": "markdown",
      "source": [
        "**Insights:**\n",
        "\n",
        "* China is the most densely populated country with 1.4B people followed by India, United States and others.\n",
        "* Vatican City is the least populated country with 510 people followed by Tokelau, Niue and others."
      ],
      "metadata": {
        "id": "H6l2zM-hn-GY"
      }
    },
    {
      "cell_type": "code",
      "source": [
        "data_pop = data.copy()\n",
        "data_pop = pd.DataFrame(data_pop.groupby([\"Continent\"])[\"1970 Population\",\"1980 Population\",\"1990 Population\",\"2000 Population\",\"2010 Population\",\"2015 Population\",\"2020 Population\",\"2022 Population\"].sum())\n",
        "\n",
        "print(\"Let's have a look on the continent-wise population in 2022 :\")\n",
        "plt.subplots(figsize=(20,8))\n",
        "p=sns.barplot(x=data_pop.index, y=data_pop[\"2022 Population\"],order=data_pop.sort_values(\"2022 Population\",ascending=False).index,palette=palette[0:11:2], saturation=1,edgecolor = \"#1c1c1c\", linewidth = 4)\n",
        "p.set_yscale(\"log\")\n",
        "p.set_title(\"Continent-wise Population [2022]\",fontsize=25)\n",
        "p.set_xlabel(\"\\nContinent\",fontsize=20)\n",
        "p.set_ylabel(\"Population\",fontsize=20)\n",
        "p.set_xticklabels(p.get_xticklabels(),rotation = 0)\n",
        "for container in p.containers:\n",
        "    p.bar_label(container,label_type=\"edge\",padding=6,size=18,color=\"black\",rotation=0,\n",
        "    bbox={\"boxstyle\": \"round\", \"pad\": 0.4, \"facecolor\": \"orange\", \"edgecolor\": \"#1c1c1c\", \"linewidth\" : 5, \"alpha\": 1})\n",
        "\n",
        "sns.despine(left=True, bottom=True)\n",
        "plt.show()"
      ],
      "metadata": {
        "_kg_hide-input": true,
        "execution": {
          "iopub.status.busy": "2022-11-30T16:00:48.803741Z",
          "iopub.execute_input": "2022-11-30T16:00:48.804255Z",
          "iopub.status.idle": "2022-11-30T16:00:49.485457Z",
          "shell.execute_reply.started": "2022-11-30T16:00:48.804208Z",
          "shell.execute_reply": "2022-11-30T16:00:49.483611Z"
        },
        "trusted": true,
        "id": "YCp6WXCLn-GZ"
      },
      "execution_count": null,
      "outputs": []
    },
    {
      "cell_type": "markdown",
      "source": [
        "**Insights:**\n",
        "\n",
        "* Asia is the most densely populated continent with 4.7B people followed by Africa, Europe and others.\n"
      ],
      "metadata": {
        "id": "5gRC4qUNn-GZ"
      }
    },
    {
      "cell_type": "code",
      "source": [
        "print(f\"Let's have a look on the ratios of continent-wise population in 2022 :\")\n",
        "plt.subplots(figsize=(12, 12))\n",
        "\n",
        "labels = \"Asia\",\"Africa\",\"Europe\",\"North America\",\"South America\",\"Oceania\"\n",
        "size = 0.5\n",
        "\n",
        "wedges, texts, autotexts = plt.pie([data_pop.sort_values(\"2022 Population\",ascending=False)[\"2022 Population\"][0],\n",
        "                                    data_pop.sort_values(\"2022 Population\",ascending=False)[\"2022 Population\"][1],\n",
        "                                    data_pop.sort_values(\"2022 Population\",ascending=False)[\"2022 Population\"][2],\n",
        "                                    data_pop.sort_values(\"2022 Population\",ascending=False)[\"2022 Population\"][3],\n",
        "                                    data_pop.sort_values(\"2022 Population\",ascending=False)[\"2022 Population\"][4],\n",
        "                                    data_pop.sort_values(\"2022 Population\",ascending=False)[\"2022 Population\"][5]],\n",
        "                                    explode = (0,0,0,0,0,0),\n",
        "                                    textprops=dict(size= 20, color= \"white\"),\n",
        "                                    autopct=\"%.2f%%\",\n",
        "                                    pctdistance = 0.72,\n",
        "                                    radius=.9,\n",
        "                                    colors = palette[0:11:2],\n",
        "                                    shadow = True,\n",
        "                                    wedgeprops=dict(width = size, edgecolor = \"black\",\n",
        "                                    linewidth = 4),\n",
        "                                    startangle = -15)\n",
        "\n",
        "plt.legend(wedges, labels, title=\"Continent\",loc=\"center left\",bbox_to_anchor=(1, 0, 0.5, 1), edgecolor = \"black\")\n",
        "plt.title(\"\\nContinent-wise Population Ratio [2022]\",fontsize=25)\n",
        "plt.show()"
      ],
      "metadata": {
        "_kg_hide-input": true,
        "execution": {
          "iopub.status.busy": "2022-11-30T16:00:58.648428Z",
          "iopub.execute_input": "2022-11-30T16:00:58.648891Z",
          "iopub.status.idle": "2022-11-30T16:00:59.007835Z",
          "shell.execute_reply.started": "2022-11-30T16:00:58.648855Z",
          "shell.execute_reply": "2022-11-30T16:00:59.00643Z"
        },
        "trusted": true,
        "id": "B28L6Drrn-Ga"
      },
      "execution_count": null,
      "outputs": []
    },
    {
      "cell_type": "markdown",
      "source": [
        "**Insights:**\n",
        "\n",
        "* In world population 59.21% from Asia, 17.89% from Africa, 9.32% from Europe,7.53% from North America, 5.48% from South America and 0.56% from Oceania.\n"
      ],
      "metadata": {
        "id": "RNMWV-Ryn-Ga"
      }
    },
    {
      "cell_type": "code",
      "source": [
        "print(\"Population in Asia in 2022 :\")\n",
        "\n",
        "fig = px.choropleth(data_frame = data,\n",
        "                    locations=\"Country/Territory\",locationmode=\"country names\", color=\"2022 Population\",\n",
        "                    color_continuous_scale=palette[:10],height= 600,scope=\"asia\",\n",
        "                    labels={\"2022 Population\":\"Population\"})\n",
        "\n",
        "\n",
        "fig.update_layout(title=dict(text= \"Population In Asia [2022]\",\n",
        "                             y=0.95,x=0.5,xanchor= \"center\",yanchor= \"top\",font_color=\"black\"),\n",
        "                  margin=dict(l=0, r=0, b=0, t=0),\n",
        "                  geo_bgcolor=\"#D5CE98\",\n",
        "                  paper_bgcolor=\"#D5CE98\")\n",
        "\n",
        "fig.show()"
      ],
      "metadata": {
        "_kg_hide-input": true,
        "execution": {
          "iopub.status.busy": "2022-11-30T16:01:32.173982Z",
          "iopub.execute_input": "2022-11-30T16:01:32.174474Z",
          "iopub.status.idle": "2022-11-30T16:01:33.363638Z",
          "shell.execute_reply.started": "2022-11-30T16:01:32.174439Z",
          "shell.execute_reply": "2022-11-30T16:01:33.362239Z"
        },
        "trusted": true,
        "id": "5FkaxSEun-Ga"
      },
      "execution_count": null,
      "outputs": []
    },
    {
      "cell_type": "code",
      "source": [
        "print(\"Population in Asia in 2022 :\")\n",
        "plt.subplots(figsize=(20,8))\n",
        "p=sns.barplot(data=data[data[\"Continent\"]==\"Asia\"],x=\"Country/Territory\", y=\"2022 Population\",order=data[data[\"Continent\"]==\"Asia\"].sort_values(\"2022 Population\",ascending=False)[\"Country/Territory\"][:11],palette=palette[0:11:2], saturation=1,edgecolor = \"#1c1c1c\", linewidth = 4)\n",
        "p.set_yscale(\"log\")\n",
        "p.set_title(\"Population In Asia [2022]\",fontsize=25)\n",
        "p.set_xlabel(\"\\nCountry\",fontsize=20)\n",
        "p.set_ylabel(\"Population\",fontsize=20)\n",
        "p.set_xticklabels(p.get_xticklabels(),rotation = 0)\n",
        "for container in p.containers:\n",
        "    p.bar_label(container,label_type=\"edge\",padding=6,size=18,color=\"black\",rotation=0,\n",
        "    bbox={\"boxstyle\": \"round\", \"pad\": 0.4, \"facecolor\": \"orange\", \"edgecolor\": \"#1c1c1c\", \"linewidth\" : 5, \"alpha\": 1})\n",
        "\n",
        "sns.despine(left=True, bottom=True)\n",
        "plt.show()"
      ],
      "metadata": {
        "_kg_hide-input": true,
        "execution": {
          "iopub.status.busy": "2022-11-30T16:02:00.392207Z",
          "iopub.execute_input": "2022-11-30T16:02:00.392668Z",
          "iopub.status.idle": "2022-11-30T16:02:00.97199Z",
          "shell.execute_reply.started": "2022-11-30T16:02:00.392628Z",
          "shell.execute_reply": "2022-11-30T16:02:00.970504Z"
        },
        "trusted": true,
        "id": "0ybb3IrZn-Gb"
      },
      "execution_count": null,
      "outputs": []
    },
    {
      "cell_type": "markdown",
      "source": [
        "**Insights:**\n",
        "\n",
        "* China is leading in Asia with 1.42B people followed by India, Indonesia and other countries."
      ],
      "metadata": {
        "id": "CS5thr7mn-Gb"
      }
    },
    {
      "cell_type": "code",
      "source": [
        "print(\"Population in Africa in 2022 :\")\n",
        "\n",
        "fig = px.choropleth(data_frame = data,\n",
        "                    locations=\"Country/Territory\",locationmode=\"country names\", color=\"2022 Population\",\n",
        "                    color_continuous_scale=palette[:10],height= 600,scope=\"africa\",\n",
        "                    labels={\"2022 Population\":\"Population\"})\n",
        "\n",
        "\n",
        "fig.update_layout(title=dict(text= \"Population In Africa [2022]\",\n",
        "                             y=0.95,x=0.5,xanchor= \"center\",yanchor= \"top\",font_color=\"black\"),\n",
        "                  margin=dict(l=0, r=0, b=0, t=0),\n",
        "                  geo_bgcolor=\"#D5CE98\",\n",
        "                  paper_bgcolor=\"#D5CE98\")\n",
        "\n",
        "fig.show()"
      ],
      "metadata": {
        "_kg_hide-input": true,
        "execution": {
          "iopub.status.busy": "2022-11-30T16:02:11.797155Z",
          "iopub.execute_input": "2022-11-30T16:02:11.797588Z",
          "iopub.status.idle": "2022-11-30T16:02:11.872452Z",
          "shell.execute_reply.started": "2022-11-30T16:02:11.797553Z",
          "shell.execute_reply": "2022-11-30T16:02:11.870978Z"
        },
        "trusted": true,
        "id": "6GyKJVWXn-Gb"
      },
      "execution_count": null,
      "outputs": []
    },
    {
      "cell_type": "code",
      "source": [
        "print(\"Population in Africa in 2022 :\")\n",
        "plt.subplots(figsize=(20,8))\n",
        "p=sns.barplot(data=data[data[\"Continent\"]==\"Africa\"],x=\"Country/Territory\", y=\"2022 Population\",order=data[data[\"Continent\"]==\"Africa\"].sort_values(\"2022 Population\",ascending=False)[\"Country/Territory\"][:11],palette=palette[0:11:2], saturation=1,edgecolor = \"#1c1c1c\", linewidth = 4)\n",
        "p.set_yscale(\"log\")\n",
        "p.set_title(\"Population In Africa [2022]\",fontsize=25)\n",
        "p.set_xlabel(\"\\nCountry\",fontsize=20)\n",
        "p.set_ylabel(\"Population\",fontsize=20)\n",
        "p.set_xticklabels(p.get_xticklabels(),rotation = 0)\n",
        "for container in p.containers:\n",
        "    p.bar_label(container,label_type=\"edge\",padding=6,size=18,color=\"black\",rotation=0,\n",
        "    bbox={\"boxstyle\": \"round\", \"pad\": 0.4, \"facecolor\": \"orange\", \"edgecolor\": \"#1c1c1c\", \"linewidth\" : 5, \"alpha\": 1})\n",
        "\n",
        "sns.despine(left=True, bottom=True)\n",
        "plt.show()"
      ],
      "metadata": {
        "_kg_hide-input": true,
        "execution": {
          "iopub.status.busy": "2022-11-30T16:02:49.935181Z",
          "iopub.execute_input": "2022-11-30T16:02:49.935632Z",
          "iopub.status.idle": "2022-11-30T16:02:50.585581Z",
          "shell.execute_reply.started": "2022-11-30T16:02:49.935595Z",
          "shell.execute_reply": "2022-11-30T16:02:50.584585Z"
        },
        "trusted": true,
        "id": "U9NFltzDn-Gc"
      },
      "execution_count": null,
      "outputs": []
    },
    {
      "cell_type": "markdown",
      "source": [
        "**Insights:**\n",
        "\n",
        "* Nigeria is leading in Africa with 218.5M people followed by Ethiopia, Egypt and other countries."
      ],
      "metadata": {
        "id": "Tnv_wPHLn-Gc"
      }
    },
    {
      "cell_type": "code",
      "source": [
        "print(\"Population in Europe in 2022 :\")\n",
        "\n",
        "fig = px.choropleth(data_frame = data,\n",
        "                    locations=\"Country/Territory\",locationmode=\"country names\", color=\"2022 Population\",\n",
        "                    color_continuous_scale=palette[:10],height= 600,scope=\"europe\",\n",
        "                    labels={\"2022 Population\":\"Population\"})\n",
        "\n",
        "\n",
        "fig.update_layout(title=dict(text= \"Population In Europe [2022]\",\n",
        "                             y=0.95,x=0.5,xanchor= \"center\",yanchor= \"top\",font_color=\"black\"),\n",
        "                  margin=dict(l=0, r=0, b=0, t=0),\n",
        "                  geo_bgcolor=\"#D5CE98\",\n",
        "                  paper_bgcolor=\"#D5CE98\")\n",
        "\n",
        "fig.show()"
      ],
      "metadata": {
        "_kg_hide-input": true,
        "execution": {
          "iopub.status.busy": "2022-11-30T16:03:00.739211Z",
          "iopub.execute_input": "2022-11-30T16:03:00.73975Z",
          "iopub.status.idle": "2022-11-30T16:03:00.830201Z",
          "shell.execute_reply.started": "2022-11-30T16:03:00.739703Z",
          "shell.execute_reply": "2022-11-30T16:03:00.828865Z"
        },
        "trusted": true,
        "id": "JwoW8PlJn-Gc"
      },
      "execution_count": null,
      "outputs": []
    },
    {
      "cell_type": "code",
      "source": [
        "print(\"Population in Europe in 2022 :\")\n",
        "plt.subplots(figsize=(20,8))\n",
        "p=sns.barplot(data=data[data[\"Continent\"]==\"Europe\"],x=\"Country/Territory\", y=\"2022 Population\",order=data[data[\"Continent\"]==\"Europe\"].sort_values(\"2022 Population\",ascending=False)[\"Country/Territory\"][:11],palette=palette[0:11:2], saturation=1,edgecolor = \"#1c1c1c\", linewidth = 4)\n",
        "p.set_yscale(\"log\")\n",
        "p.set_title(\"Population In Europe [2022]\",fontsize=25)\n",
        "p.set_xlabel(\"\\nCountry\",fontsize=20)\n",
        "p.set_ylabel(\"Population\",fontsize=20)\n",
        "p.set_xticklabels(p.get_xticklabels(),rotation = 0)\n",
        "for container in p.containers:\n",
        "    p.bar_label(container,label_type=\"edge\",padding=6,size=18,color=\"black\",rotation=0,\n",
        "    bbox={\"boxstyle\": \"round\", \"pad\": 0.4, \"facecolor\": \"orange\", \"edgecolor\": \"#1c1c1c\", \"linewidth\" : 5, \"alpha\": 1})\n",
        "\n",
        "sns.despine(left=True, bottom=True)\n",
        "plt.show()"
      ],
      "metadata": {
        "_kg_hide-input": true,
        "execution": {
          "iopub.status.busy": "2022-11-30T16:03:22.490075Z",
          "iopub.execute_input": "2022-11-30T16:03:22.490633Z",
          "iopub.status.idle": "2022-11-30T16:03:23.244856Z",
          "shell.execute_reply.started": "2022-11-30T16:03:22.490584Z",
          "shell.execute_reply": "2022-11-30T16:03:23.24351Z"
        },
        "trusted": true,
        "id": "P9O0hNMZn-Gd"
      },
      "execution_count": null,
      "outputs": []
    },
    {
      "cell_type": "markdown",
      "source": [
        "**Insights:**\n",
        "\n",
        "* Russia is leading in Europe with 144.7M people followed by Germany, United Kingdom and other countries."
      ],
      "metadata": {
        "id": "loca7fhOn-Gd"
      }
    },
    {
      "cell_type": "code",
      "source": [
        "print(\"Population in North America in 2022 :\")\n",
        "\n",
        "fig = px.choropleth(data_frame = data,\n",
        "                    locations=\"Country/Territory\",locationmode=\"country names\", color=\"2022 Population\",\n",
        "                    color_continuous_scale=palette[:10],height= 600,scope=\"north america\",\n",
        "                    labels={\"2022 Population\":\"Population\"})\n",
        "\n",
        "\n",
        "fig.update_layout(title=dict(text= \"Population In North America [2022]\",\n",
        "                             y=0.95,x=0.5,xanchor= \"center\",yanchor= \"top\",font_color=\"black\"),\n",
        "                  margin=dict(l=0, r=0, b=0, t=0),\n",
        "                  geo_bgcolor=\"#D5CE98\",\n",
        "                  paper_bgcolor=\"#D5CE98\")\n",
        "\n",
        "fig.show()"
      ],
      "metadata": {
        "_kg_hide-input": true,
        "execution": {
          "iopub.status.busy": "2022-11-30T16:03:31.443473Z",
          "iopub.execute_input": "2022-11-30T16:03:31.443948Z",
          "iopub.status.idle": "2022-11-30T16:03:31.525775Z",
          "shell.execute_reply.started": "2022-11-30T16:03:31.44391Z",
          "shell.execute_reply": "2022-11-30T16:03:31.524269Z"
        },
        "trusted": true,
        "id": "ZEtY94_un-Gd"
      },
      "execution_count": null,
      "outputs": []
    },
    {
      "cell_type": "code",
      "source": [
        "print(\"Population in North America in 2022 :\")\n",
        "plt.subplots(figsize=(20,8))\n",
        "p=sns.barplot(data=data[data[\"Continent\"]==\"North America\"],x=\"Country/Territory\", y=\"2022 Population\",order=data[data[\"Continent\"]==\"North America\"].sort_values(\"2022 Population\",ascending=False)[\"Country/Territory\"][:11],palette=palette[0:11:2], saturation=1,edgecolor = \"#1c1c1c\", linewidth = 4)\n",
        "p.set_yscale(\"log\")\n",
        "p.set_title(\"Population In North America [2022]\",fontsize=25)\n",
        "p.set_xlabel(\"\\nCountry\",fontsize=20)\n",
        "p.set_ylabel(\"Population\",fontsize=20)\n",
        "p.set_xticklabels(p.get_xticklabels(),rotation = 0)\n",
        "for container in p.containers:\n",
        "    p.bar_label(container,label_type=\"edge\",padding=6,size=18,color=\"black\",rotation=0,\n",
        "    bbox={\"boxstyle\": \"round\", \"pad\": 0.4, \"facecolor\": \"orange\", \"edgecolor\": \"#1c1c1c\", \"linewidth\" : 5, \"alpha\": 1})\n",
        "\n",
        "sns.despine(left=True, bottom=True)\n",
        "plt.show()"
      ],
      "metadata": {
        "_kg_hide-input": true,
        "execution": {
          "iopub.status.busy": "2022-11-30T16:03:47.783259Z",
          "iopub.execute_input": "2022-11-30T16:03:47.783675Z",
          "iopub.status.idle": "2022-11-30T16:03:48.330757Z",
          "shell.execute_reply.started": "2022-11-30T16:03:47.78364Z",
          "shell.execute_reply": "2022-11-30T16:03:48.329224Z"
        },
        "trusted": true,
        "id": "oA5WWVpTn-Ge"
      },
      "execution_count": null,
      "outputs": []
    },
    {
      "cell_type": "markdown",
      "source": [
        "**Insights:**\n",
        "\n",
        "* United States is leading in North America with 338.3M people followed by Mexico, Canada and other countries."
      ],
      "metadata": {
        "id": "klQxR-f5n-Ge"
      }
    },
    {
      "cell_type": "code",
      "source": [
        "print(\"Population in Souh America in 2022 :\")\n",
        "\n",
        "fig = px.choropleth(data_frame = data,\n",
        "                    locations=\"Country/Territory\",locationmode=\"country names\", color=\"2022 Population\",\n",
        "                    color_continuous_scale=palette[:10],height= 600,scope=\"south america\",\n",
        "                    labels={\"2022 Population\":\"Population\"})\n",
        "\n",
        "\n",
        "fig.update_layout(title=dict(text= \"Population In South America [2022]\",\n",
        "                             y=0.95,x=0.5,xanchor= \"center\",yanchor= \"top\",font_color=\"black\"),\n",
        "                  margin=dict(l=0, r=0, b=0, t=0),\n",
        "                  geo_bgcolor=\"#D5CE98\",\n",
        "                  paper_bgcolor=\"#D5CE98\")\n",
        "\n",
        "fig.show()"
      ],
      "metadata": {
        "_kg_hide-input": true,
        "execution": {
          "iopub.status.busy": "2022-11-30T16:03:57.917478Z",
          "iopub.execute_input": "2022-11-30T16:03:57.91789Z",
          "iopub.status.idle": "2022-11-30T16:03:57.99202Z",
          "shell.execute_reply.started": "2022-11-30T16:03:57.917847Z",
          "shell.execute_reply": "2022-11-30T16:03:57.99075Z"
        },
        "trusted": true,
        "id": "bpvZcihOn-Ge"
      },
      "execution_count": null,
      "outputs": []
    },
    {
      "cell_type": "code",
      "source": [
        "print(\"Population in South America in 2022 :\")\n",
        "plt.subplots(figsize=(20,8))\n",
        "p=sns.barplot(data=data[data[\"Continent\"]==\"South America\"],x=\"Country/Territory\", y=\"2022 Population\",order=data[data[\"Continent\"]==\"South America\"].sort_values(\"2022 Population\",ascending=False)[\"Country/Territory\"][:11],palette=palette[0:11:2], saturation=1,edgecolor = \"#1c1c1c\", linewidth = 4)\n",
        "p.set_yscale(\"log\")\n",
        "p.set_title(\"Population In South America [2022]\",fontsize=25)\n",
        "p.set_xlabel(\"\\nCountry\",fontsize=20)\n",
        "p.set_ylabel(\"Population\",fontsize=20)\n",
        "p.set_xticklabels(p.get_xticklabels(),rotation = 0)\n",
        "for container in p.containers:\n",
        "    p.bar_label(container,label_type=\"edge\",padding=6,size=18,color=\"black\",rotation=0,\n",
        "    bbox={\"boxstyle\": \"round\", \"pad\": 0.4, \"facecolor\": \"orange\", \"edgecolor\": \"#1c1c1c\", \"linewidth\" : 5, \"alpha\": 1})\n",
        "\n",
        "sns.despine(left=True, bottom=True)\n",
        "plt.show()"
      ],
      "metadata": {
        "_kg_hide-input": true,
        "execution": {
          "iopub.status.busy": "2022-11-30T16:04:15.405738Z",
          "iopub.execute_input": "2022-11-30T16:04:15.406321Z",
          "iopub.status.idle": "2022-11-30T16:04:16.050292Z",
          "shell.execute_reply.started": "2022-11-30T16:04:15.40627Z",
          "shell.execute_reply": "2022-11-30T16:04:16.048973Z"
        },
        "trusted": true,
        "id": "Mg1PVn1Vn-Gf"
      },
      "execution_count": null,
      "outputs": []
    },
    {
      "cell_type": "markdown",
      "source": [
        "**Insights:**\n",
        "\n",
        "* Brazil is leading in South America with 215.3M people followed by Colombia, Argentina and other countries."
      ],
      "metadata": {
        "id": "VHe8W_VFn-Gf"
      }
    },
    {
      "cell_type": "code",
      "source": [
        "print(f\"Let's have a look on the timeline of continent-wise population :\")\n",
        "_, axs = plt.subplots(figsize=(20,10))\n",
        "\n",
        "sns.lineplot(x=data_pop.T.index ,y=data_pop.T[\"Asia\"],data=data_pop.T,ax=axs,color=\"#006837\",marker=\"o\",linewidth=5,markersize=20)\n",
        "sns.lineplot(x=data_pop.T.index ,y=data_pop.T[\"Africa\"],data=data_pop.T,ax=axs,color=\"#66BD63\",marker=\"o\",linewidth=5,markersize=20)\n",
        "sns.lineplot(x=data_pop.T.index ,y=data_pop.T[\"Europe\"],data=data_pop.T,ax=axs,color=\"#D9EF8B\",marker=\"o\",linewidth=5,markersize=20)\n",
        "sns.lineplot(x=data_pop.T.index ,y=data_pop.T[\"North America\"],data=data_pop.T,ax=axs,color=\"#FEE08B\",marker=\"o\",linewidth=5,markersize=20)\n",
        "sns.lineplot(x=data_pop.T.index ,y=data_pop.T[\"South America\"],data=data_pop.T,ax=axs,color=\"#F46D43\",marker=\"o\",linewidth=5,markersize=20)\n",
        "sns.lineplot(x=data_pop.T.index ,y=data_pop.T[\"Oceania\"],data=data_pop.T,ax=axs,color=\"#A50026\",marker=\"o\",linewidth=5,markersize=20)\n",
        "\n",
        "axs.set_title(\"Continent-wise Population Timeline\\n\",fontsize=25)\n",
        "axs.set_xlabel(\"\\nYear\",fontsize=20)\n",
        "axs.set_ylabel(\"Population\",fontsize=20)\n",
        "axs.legend([\"Asia\",\"Africa\",\"Europe\",\"North America\",\"South America\",\"Oceania\"],title=\"Continent\", edgecolor = \"#1c1c1c\")\n",
        "# axs.set_xticks([],minor=False)\n",
        "\n",
        "sns.despine(left=True, bottom=True)\n",
        "plt.show()"
      ],
      "metadata": {
        "_kg_hide-input": true,
        "execution": {
          "iopub.status.busy": "2022-11-30T16:04:39.623251Z",
          "iopub.execute_input": "2022-11-30T16:04:39.623678Z",
          "iopub.status.idle": "2022-11-30T16:04:40.108364Z",
          "shell.execute_reply.started": "2022-11-30T16:04:39.623644Z",
          "shell.execute_reply": "2022-11-30T16:04:40.10728Z"
        },
        "trusted": true,
        "id": "yTMJkQp4n-Gm"
      },
      "execution_count": null,
      "outputs": []
    },
    {
      "cell_type": "markdown",
      "source": [
        "**Insights:**\n",
        "\n",
        "* In every continent population is increasing by time.\n",
        "* Population of Asia is increasing highly followed by Africa.\n"
      ],
      "metadata": {
        "id": "Jgx3Me8Sn-Gm"
      }
    },
    {
      "cell_type": "code",
      "source": [
        "plt.subplots(figsize=(20,10))\n",
        "p=sns.scatterplot(x=data[\"Density (per km²)\"], y=data[\"Area (km²)\"], hue=data[\"Continent\"],size=data[\"2022 Population\"],palette=palette[0:11:2], edgecolor = \"#1c1c1c\", linewidth = 2,sizes=(100, 9000),alpha=1)\n",
        "p.set_xscale(\"symlog\")\n",
        "p.set_yscale(\"linear\")\n",
        "p.set_title(\"Continent-wise Population Distribution [2022]\",fontsize=25)\n",
        "p.set_xlabel(\"Density/km²\",fontsize=20)\n",
        "p.set_ylabel(\"\\nArea/km²\",fontsize=20)\n",
        "\n",
        "sns.despine(left=True, bottom=True)\n",
        "plt.show()"
      ],
      "metadata": {
        "_kg_hide-input": true,
        "execution": {
          "iopub.status.busy": "2022-11-30T16:04:53.437664Z",
          "iopub.execute_input": "2022-11-30T16:04:53.4383Z",
          "iopub.status.idle": "2022-11-30T16:04:54.301432Z",
          "shell.execute_reply.started": "2022-11-30T16:04:53.438254Z",
          "shell.execute_reply": "2022-11-30T16:04:54.30031Z"
        },
        "trusted": true,
        "id": "Y4hX_9dMn-Gm"
      },
      "execution_count": null,
      "outputs": []
    },
    {
      "cell_type": "markdown",
      "source": [
        "**Insights:**\n",
        "\n",
        "* Almost every Asian country has high population with high population density/km²."
      ],
      "metadata": {
        "id": "StDmNY2Yn-Gn"
      }
    },
    {
      "cell_type": "markdown",
      "source": [
        "<a id=\"7\"></a>\n",
        "# <p style=\"padding:10px;background-color:#006837;margin:0;color:#e9c46a;font-family:newtimeroman;font-size:100%;text-align:center;border-radius: 15px 50px;overflow:hidden;font-weight:500\">Population Density</p>"
      ],
      "metadata": {
        "id": "fIlRUdP1n-Gn"
      }
    },
    {
      "cell_type": "code",
      "source": [
        "print(f\"Let's have a look on the distribution of population density :\")\n",
        "plt.subplots(figsize=(20, 8))\n",
        "p = sns.histplot(data[\"Density (per km²)\"],color=[\"#A50026\"],kde=True,bins=60,alpha=1,fill=True,edgecolor=\"black\",linewidth=3)\n",
        "p.axes.lines[0].set_color(\"#e9c46a\")\n",
        "p.axes.set_yscale(\"symlog\")\n",
        "p.axes.set_title(\"\\nPopulation Density/km² Distribution\\n\",fontsize=25)\n",
        "plt.ylabel(\"Count\",fontsize=20)\n",
        "plt.xlabel(\"\\nDensity/km²\",fontsize=20)\n",
        "sns.despine(left=True, bottom=True)\n",
        "\n",
        "plt.show()"
      ],
      "metadata": {
        "_kg_hide-input": true,
        "execution": {
          "iopub.status.busy": "2022-11-30T16:05:06.348859Z",
          "iopub.execute_input": "2022-11-30T16:05:06.349317Z",
          "iopub.status.idle": "2022-11-30T16:05:06.869933Z",
          "shell.execute_reply.started": "2022-11-30T16:05:06.349274Z",
          "shell.execute_reply": "2022-11-30T16:05:06.868832Z"
        },
        "trusted": true,
        "id": "Zc3wdIbzn-Gn"
      },
      "execution_count": null,
      "outputs": []
    },
    {
      "cell_type": "markdown",
      "source": [
        "**Insights:**\n",
        "\n",
        "* Almost all country have population density/km² in between 0 to 2000."
      ],
      "metadata": {
        "id": "St1NhPUEn-Gn"
      }
    },
    {
      "cell_type": "code",
      "source": [
        "print(f\"Let's have a look on the population density :\")\n",
        "_, axs = plt.subplots(2,1,figsize=(20,16))\n",
        "plt.tight_layout(pad=6.0)\n",
        "\n",
        "sns.barplot(x=data[\"Country/Territory\"],y=data[\"Density (per km²)\"],order=data.sort_values(\"Density (per km²)\",ascending=False)[\"Country/Territory\"][:11],ax=axs[0],palette=palette, saturation=1,edgecolor = \"#1c1c1c\", linewidth = 4)\n",
        "axs[0].set_yscale(\"linear\")\n",
        "axs[0].set_title(\"Most Densely Populated Countries\",fontsize=25)\n",
        "axs[0].set_xlabel(\"\\nCountry\",fontsize=20)\n",
        "axs[0].set_ylabel(\"Density/km²\",fontsize=20)\n",
        "axs[0].set_xticklabels(axs[0].get_xticklabels(),rotation = 0)\n",
        "for container in axs[0].containers:\n",
        "    axs[0].bar_label(container,label_type=\"center\",padding=6,size=18,color=\"black\",rotation=0,\n",
        "    bbox={\"boxstyle\": \"round\", \"pad\": 0.4, \"facecolor\": \"orange\", \"edgecolor\": \"#1c1c1c\", \"linewidth\" : 3, \"alpha\": 1})\n",
        "\n",
        "sns.barplot(x=data[\"Country/Territory\"],y=data[\"Density (per km²)\"],order=data.sort_values(\"Density (per km²)\",ascending=True)[\"Country/Territory\"][:11],ax=axs[1],palette=palette, saturation=1,edgecolor = \"#1c1c1c\", linewidth = 4)\n",
        "axs[1].set_yscale(\"linear\")\n",
        "axs[1].set_title(\"Least Densely Populated Countries\",fontsize=25)\n",
        "axs[1].set_xlabel(\"\\nCountry\",fontsize=20)\n",
        "axs[1].set_ylabel(\"Density/km²\",fontsize=20)\n",
        "axs[1].set_xticklabels(axs[1].get_xticklabels(),rotation = 15)\n",
        "for container in axs[1].containers:\n",
        "    axs[1].bar_label(container,label_type=\"center\",padding=6,size=18,color=\"black\",rotation=0,\n",
        "    bbox={\"boxstyle\": \"round\", \"pad\": 0.4, \"facecolor\": \"orange\", \"edgecolor\": \"#1c1c1c\", \"linewidth\" : 3, \"alpha\": 1})\n",
        "\n",
        "sns.despine(left=True, bottom=True)\n",
        "plt.show()"
      ],
      "metadata": {
        "_kg_hide-input": true,
        "execution": {
          "iopub.status.busy": "2022-11-30T16:05:38.539523Z",
          "iopub.execute_input": "2022-11-30T16:05:38.54077Z",
          "iopub.status.idle": "2022-11-30T16:05:39.451763Z",
          "shell.execute_reply.started": "2022-11-30T16:05:38.540719Z",
          "shell.execute_reply": "2022-11-30T16:05:39.450626Z"
        },
        "trusted": true,
        "id": "S-8fqu7sn-Go"
      },
      "execution_count": null,
      "outputs": []
    },
    {
      "cell_type": "markdown",
      "source": [
        "**Insights:**\n",
        "\n",
        "* Macau is the most densely populated country with more than 23172 people in per square kilometer followed by Monaco, Singapore and others.\n",
        "* Greenland is the least densely populated country with 0.0261 people in per square kilometer followed by Falkland Island, Western Sahara and others."
      ],
      "metadata": {
        "id": "4GB1Tydsn-Go"
      }
    },
    {
      "cell_type": "code",
      "source": [
        "data_den = data.copy()\n",
        "data_den = pd.DataFrame(data_den.groupby([\"Continent\"])[\"1970 Population\",\"1980 Population\",\"1990 Population\",\"2000 Population\",\"2010 Population\",\"2015 Population\",\"2020 Population\",\"2022 Population\",\"Area (km²)\"].sum())\n",
        "col = [\"1970 Population\",\"1980 Population\",\"1990 Population\",\"2000 Population\",\"2010 Population\",\"2015 Population\",\"2020 Population\",\"2022 Population\"]\n",
        "for i in col:\n",
        "    data_den[i] = data_den[i]/data_den[\"Area (km²)\"]\n",
        "data_den.rename(columns={\"1970 Population\":\"1970 Density\",\"1980 Population\":\"1980 Density\",\"1990 Population\":\"1990 Density\",\"2000 Population\":\"2000 Density\",\"2010 Population\":\"2010 Density\",\"2015 Population\":\"2015 Density\",\"2020 Population\":\"2020 Density\",\"2022 Population\":\"2022 Density\"},inplace=True)\n",
        "data_den.drop(columns=\"Area (km²)\",inplace=True)\n",
        "\n",
        "\n",
        "print(f\"Let's have a look on the timeline of continent-wise population density :\")\n",
        "_, axs = plt.subplots(figsize=(20,10))\n",
        "\n",
        "sns.lineplot(x=data_den.T.index ,y=data_den.T[\"Asia\"],data=data_den.T,ax=axs,color=\"#006837\",marker=\"o\",linewidth=5,markersize=20)\n",
        "sns.lineplot(x=data_den.T.index ,y=data_den.T[\"Africa\"],data=data_den.T,ax=axs,color=\"#66BD63\",marker=\"o\",linewidth=5,markersize=20)\n",
        "sns.lineplot(x=data_den.T.index ,y=data_den.T[\"Europe\"],data=data_den.T,ax=axs,color=\"#D9EF8B\",marker=\"o\",linewidth=5,markersize=20)\n",
        "sns.lineplot(x=data_den.T.index ,y=data_den.T[\"North America\"],data=data_den.T,ax=axs,color=\"#FEE08B\",marker=\"o\",linewidth=5,markersize=20)\n",
        "sns.lineplot(x=data_den.T.index ,y=data_den.T[\"South America\"],data=data_den.T,ax=axs,color=\"#F46D43\",marker=\"o\",linewidth=5,markersize=20)\n",
        "sns.lineplot(x=data_den.T.index ,y=data_den.T[\"Oceania\"],data=data_den.T,ax=axs,color=\"#A50026\",marker=\"o\",linewidth=5,markersize=20)\n",
        "\n",
        "axs.set_title(\"Continent-wise Population Density Timeline\\n\",fontsize=25)\n",
        "axs.set_xlabel(\"\\nYear\",fontsize=20)\n",
        "axs.set_ylabel(\"Population Density\",fontsize=20)\n",
        "axs.legend([\"Asia\",\"Africa\",\"Europe\",\"North America\",\"South America\",\"Oceania\"],title=\"Continent\", edgecolor = \"#1c1c1c\")\n",
        "# axs.set_xticks([],minor=False)\n",
        "\n",
        "sns.despine(left=True, bottom=True)\n",
        "plt.show()"
      ],
      "metadata": {
        "_kg_hide-input": true,
        "execution": {
          "iopub.status.busy": "2022-11-30T16:06:24.900588Z",
          "iopub.execute_input": "2022-11-30T16:06:24.900991Z",
          "iopub.status.idle": "2022-11-30T16:06:25.399339Z",
          "shell.execute_reply.started": "2022-11-30T16:06:24.900956Z",
          "shell.execute_reply": "2022-11-30T16:06:25.39814Z"
        },
        "trusted": true,
        "id": "hX6kUC2-n-Go"
      },
      "execution_count": null,
      "outputs": []
    },
    {
      "cell_type": "markdown",
      "source": [
        "**Insights:**\n",
        "\n",
        "* In every continent population density/km² is increasing by time.\n",
        "* Population density/km² of Asia is increasing highly followed by Africa."
      ],
      "metadata": {
        "id": "2A-QDsfXn-Gp"
      }
    },
    {
      "cell_type": "markdown",
      "source": [
        "<a id=\"8\"></a>\n",
        "# <p style=\"padding:10px;background-color:#006837;margin:0;color:#e9c46a;font-family:newtimeroman;font-size:100%;text-align:center;border-radius: 15px 50px;overflow:hidden;font-weight:500\">Population Growth Rate</p>"
      ],
      "metadata": {
        "id": "Ckd2m6LJn-Gp"
      }
    },
    {
      "cell_type": "code",
      "source": [
        "print(f\"Let's have a look on the population growth rate :\")\n",
        "_, axs = plt.subplots(2,1,figsize=(20,16))\n",
        "plt.tight_layout(pad=6.0)\n",
        "\n",
        "sns.barplot(x=data[\"Country/Territory\"],y=data[\"Growth Rate\"],order=data.sort_values(\"Growth Rate\",ascending=False)[\"Country/Territory\"][:11],ax=axs[0],palette=palette, saturation=1,edgecolor = \"#1c1c1c\", linewidth = 4)\n",
        "axs[0].set_yscale(\"linear\")\n",
        "axs[0].set_title(\"Highest Population Growth Rate Countries\",fontsize=25)\n",
        "axs[0].set_xlabel(\"\\nCountry\",fontsize=20)\n",
        "axs[0].set_ylabel(\"Growth Rate\",fontsize=20)\n",
        "axs[0].set_xticklabels(axs[0].get_xticklabels(),rotation = 0)\n",
        "for container in axs[0].containers:\n",
        "    axs[0].bar_label(container,label_type=\"center\",padding=6,size=18,color=\"black\",rotation=0,\n",
        "    bbox={\"boxstyle\": \"round\", \"pad\": 0.4, \"facecolor\": \"orange\", \"edgecolor\": \"#1c1c1c\", \"linewidth\" : 3, \"alpha\": 1})\n",
        "\n",
        "sns.barplot(x=data[\"Country/Territory\"],y=data[\"Growth Rate\"],order=data.sort_values(\"Growth Rate\",ascending=True)[\"Country/Territory\"][:11],ax=axs[1],palette=palette, saturation=1,edgecolor = \"#1c1c1c\", linewidth = 4)\n",
        "axs[1].set_yscale(\"linear\")\n",
        "axs[1].set_title(\"Least Population Growth Rate Countries\",fontsize=25)\n",
        "axs[1].set_xlabel(\"\\nCountry\",fontsize=20)\n",
        "axs[1].set_ylabel(\"Growth Rate\",fontsize=20)\n",
        "axs[1].set_xticklabels(axs[1].get_xticklabels(),rotation = 30)\n",
        "for container in axs[1].containers:\n",
        "    axs[1].bar_label(container,label_type=\"center\",padding=6,size=18,color=\"black\",rotation=0,\n",
        "    bbox={\"boxstyle\": \"round\", \"pad\": 0.4, \"facecolor\": \"orange\", \"edgecolor\": \"#1c1c1c\", \"linewidth\" : 3, \"alpha\": 1})\n",
        "\n",
        "sns.despine(left=True, bottom=True)\n",
        "plt.show()"
      ],
      "metadata": {
        "_kg_hide-input": true,
        "execution": {
          "iopub.status.busy": "2022-11-30T16:06:56.008043Z",
          "iopub.execute_input": "2022-11-30T16:06:56.008458Z",
          "iopub.status.idle": "2022-11-30T16:06:56.896183Z",
          "shell.execute_reply.started": "2022-11-30T16:06:56.008424Z",
          "shell.execute_reply": "2022-11-30T16:06:56.89466Z"
        },
        "trusted": true,
        "id": "m2X-xHd2n-Gp"
      },
      "execution_count": null,
      "outputs": []
    },
    {
      "cell_type": "markdown",
      "source": [
        "**Insights:**\n",
        "\n",
        "* Moldova is leading in population growth rate with a growth rate of 1.0691 followed by Poland, Niger and others.\n",
        "* Ukraine has the lowest population growth rate of 0.912 followed by Lebanon, American Samoa and others."
      ],
      "metadata": {
        "id": "F0pPf4Hwn-Gp"
      }
    },
    {
      "cell_type": "code",
      "source": [
        "print(\"Population Growth Rate in Asia :\")\n",
        "\n",
        "fig = px.choropleth(data_frame = data,\n",
        "                    locations=\"Country/Territory\",locationmode=\"country names\", color=\"Growth Rate\",\n",
        "                    color_continuous_scale=palette[0:5],height= 600,scope=\"asia\",\n",
        "                    labels={\"Growth Rate\":\"Growth Rate\"})\n",
        "\n",
        "\n",
        "fig.update_layout(title=dict(text= \"Population Growth Rate In Asia\",\n",
        "                             y=0.95,x=0.5,xanchor= \"center\",yanchor= \"top\",font_color=\"black\"),\n",
        "                  margin=dict(l=0, r=0, b=0, t=0),\n",
        "                  geo_bgcolor=\"#D5CE98\",\n",
        "                  paper_bgcolor=\"#D5CE98\")\n",
        "\n",
        "fig.show()"
      ],
      "metadata": {
        "_kg_hide-input": true,
        "execution": {
          "iopub.status.busy": "2022-11-30T16:07:15.843532Z",
          "iopub.execute_input": "2022-11-30T16:07:15.843941Z",
          "iopub.status.idle": "2022-11-30T16:07:15.918743Z",
          "shell.execute_reply.started": "2022-11-30T16:07:15.8439Z",
          "shell.execute_reply": "2022-11-30T16:07:15.917401Z"
        },
        "trusted": true,
        "id": "jPevzOByn-Gp"
      },
      "execution_count": null,
      "outputs": []
    },
    {
      "cell_type": "markdown",
      "source": [
        "**Insights:**\n",
        "\n",
        "* Syria is leading in Asia with a population growth rate of 1.0376 followed by Afghanistan, Palestine and other countries."
      ],
      "metadata": {
        "id": "MA0yLo1Tn-Gq"
      }
    },
    {
      "cell_type": "code",
      "source": [
        "print(\"Population Growth Rate in Africa :\")\n",
        "\n",
        "fig = px.choropleth(data_frame = data,\n",
        "                    locations=\"Country/Territory\",locationmode=\"country names\", color=\"Growth Rate\",\n",
        "                    color_continuous_scale=palette[0:5],height= 600,scope=\"africa\",\n",
        "                    labels={\"Growth Rate\":\"Growth Rate\"})\n",
        "\n",
        "\n",
        "fig.update_layout(title=dict(text= \"Population Growth Rate In Africa\",\n",
        "                             y=0.95,x=0.5,xanchor= \"center\",yanchor= \"top\",font_color=\"black\"),\n",
        "                  margin=dict(l=0, r=0, b=0, t=0),\n",
        "                  geo_bgcolor=\"#D5CE98\",\n",
        "                  paper_bgcolor=\"#D5CE98\")\n",
        "\n",
        "fig.show()"
      ],
      "metadata": {
        "_kg_hide-input": true,
        "execution": {
          "iopub.status.busy": "2022-11-30T16:07:26.330859Z",
          "iopub.execute_input": "2022-11-30T16:07:26.33147Z",
          "iopub.status.idle": "2022-11-30T16:07:26.409951Z",
          "shell.execute_reply.started": "2022-11-30T16:07:26.331427Z",
          "shell.execute_reply": "2022-11-30T16:07:26.408563Z"
        },
        "trusted": true,
        "id": "X8Qnl6MEn-Gq"
      },
      "execution_count": null,
      "outputs": []
    },
    {
      "cell_type": "markdown",
      "source": [
        "**Insights:**\n",
        "\n",
        "* Niger is leading in Africa with a population growth rate of 1.0378 followed by DR Congo, Mayotte and other countries."
      ],
      "metadata": {
        "id": "ZBAJ3NVqn-Gq"
      }
    },
    {
      "cell_type": "code",
      "source": [
        "print(\"Population Growth Rate in Europe :\")\n",
        "\n",
        "fig = px.choropleth(data_frame = data,\n",
        "                    locations=\"Country/Territory\",locationmode=\"country names\", color=\"Growth Rate\",\n",
        "                    color_continuous_scale=palette[0:5],height= 600,scope=\"europe\",\n",
        "                    labels={\"Growth Rate\":\"Growth Rate\"})\n",
        "\n",
        "\n",
        "fig.update_layout(title=dict(text= \"Population Growth Rate In Europe\",\n",
        "                             y=0.95,x=0.5,xanchor= \"center\",yanchor= \"top\",font_color=\"black\"),\n",
        "                  margin=dict(l=0, r=0, b=0, t=0),\n",
        "                  geo_bgcolor=\"#D5CE98\",\n",
        "                  paper_bgcolor=\"#D5CE98\")\n",
        "\n",
        "fig.show()"
      ],
      "metadata": {
        "_kg_hide-input": true,
        "execution": {
          "iopub.status.busy": "2022-11-30T16:07:39.309622Z",
          "iopub.execute_input": "2022-11-30T16:07:39.310045Z",
          "iopub.status.idle": "2022-11-30T16:07:39.384633Z",
          "shell.execute_reply.started": "2022-11-30T16:07:39.310011Z",
          "shell.execute_reply": "2022-11-30T16:07:39.383505Z"
        },
        "trusted": true,
        "id": "JIzv6_C3n-Gq"
      },
      "execution_count": null,
      "outputs": []
    },
    {
      "cell_type": "markdown",
      "source": [
        "**Insights:**\n",
        "\n",
        "* Moldova is leading in Europe with a population growth rate of 1.0691 followed by Poland, Slovakia and other countries."
      ],
      "metadata": {
        "id": "_Q1Phthwn-Gr"
      }
    },
    {
      "cell_type": "code",
      "source": [
        "print(\"Population Growth Rate in North America :\")\n",
        "\n",
        "fig = px.choropleth(data_frame = data,\n",
        "                    locations=\"Country/Territory\",locationmode=\"country names\", color=\"Growth Rate\",\n",
        "                    color_continuous_scale=palette[0:5],height= 600,scope=\"north america\",\n",
        "                    labels={\"Growth Rate\":\"Growth Rate\"})\n",
        "\n",
        "\n",
        "fig.update_layout(title=dict(text= \"Population Growth Rate In North America\",\n",
        "                             y=0.95,x=0.5,xanchor= \"center\",yanchor= \"top\",font_color=\"black\"),\n",
        "                  margin=dict(l=0, r=0, b=0, t=0),\n",
        "                  geo_bgcolor=\"#D5CE98\",\n",
        "                  paper_bgcolor=\"#D5CE98\")\n",
        "\n",
        "fig.show()"
      ],
      "metadata": {
        "_kg_hide-input": true,
        "execution": {
          "iopub.status.busy": "2022-11-30T16:07:53.675564Z",
          "iopub.execute_input": "2022-11-30T16:07:53.676204Z",
          "iopub.status.idle": "2022-11-30T16:07:53.750388Z",
          "shell.execute_reply.started": "2022-11-30T16:07:53.676153Z",
          "shell.execute_reply": "2022-11-30T16:07:53.748964Z"
        },
        "trusted": true,
        "id": "IVxg6rJOn-Gr"
      },
      "execution_count": null,
      "outputs": []
    },
    {
      "cell_type": "markdown",
      "source": [
        "**Insights:**\n",
        "\n",
        "* Honduras is leading in North America with a population growth rate of 1.015 followed by Nicaragua, Guatemala and other countries."
      ],
      "metadata": {
        "id": "F9En1yf_n-Gr"
      }
    },
    {
      "cell_type": "code",
      "source": [
        "print(\"Population Growth Rate in South America :\")\n",
        "\n",
        "fig = px.choropleth(data_frame = data,\n",
        "                    locations=\"Country/Territory\",locationmode=\"country names\", color=\"Growth Rate\",\n",
        "                    color_continuous_scale=palette[0:5],height= 600,scope=\"south america\",\n",
        "                    labels={\"Growth Rate\":\"Growth Rate\"})\n",
        "\n",
        "\n",
        "fig.update_layout(title=dict(text= \"Population Growth Rate In South America\",\n",
        "                             y=0.95,x=0.5,xanchor= \"center\",yanchor= \"top\",font_color=\"black\"),\n",
        "                  margin=dict(l=0, r=0, b=0, t=0),\n",
        "                  geo_bgcolor=\"#D5CE98\",\n",
        "                  paper_bgcolor=\"#D5CE98\")\n",
        "\n",
        "fig.show()"
      ],
      "metadata": {
        "_kg_hide-input": true,
        "execution": {
          "iopub.status.busy": "2022-11-30T16:08:03.743231Z",
          "iopub.execute_input": "2022-11-30T16:08:03.743679Z",
          "iopub.status.idle": "2022-11-30T16:08:03.820124Z",
          "shell.execute_reply.started": "2022-11-30T16:08:03.743643Z",
          "shell.execute_reply": "2022-11-30T16:08:03.818732Z"
        },
        "trusted": true,
        "id": "sw8LT9wNn-Gr"
      },
      "execution_count": null,
      "outputs": []
    },
    {
      "cell_type": "markdown",
      "source": [
        "**Insights:**\n",
        "\n",
        "* French Guiana is leading in South America with a population growth rate of 1.0239 followed by Bolivia, Paraguay and other countries."
      ],
      "metadata": {
        "id": "ioO0eKLYn-Gr"
      }
    },
    {
      "cell_type": "code",
      "source": [
        "data_gr = data.copy()\n",
        "data_gr = pd.DataFrame(data_gr.groupby([\"Continent\"])[\"Growth Rate\"].mean())\n",
        "\n",
        "print(\"Let's have a look on the continent-wise average population growth rate :\")\n",
        "plt.subplots(figsize=(20,8))\n",
        "p=sns.barplot(x=data_gr.index, y=data_gr[\"Growth Rate\"],order=data_gr.sort_values(\"Growth Rate\",ascending=False).index,palette=palette[0:11:2], saturation=1,edgecolor = \"#1c1c1c\", linewidth = 4)\n",
        "p.set_yscale(\"log\")\n",
        "p.set_title(\"Continent-wise Average Population Growth Rate\",fontsize=25)\n",
        "p.set_xlabel(\"\\nContinent\",fontsize=20)\n",
        "p.set_ylabel(\"Average Growth Rate\",fontsize=20)\n",
        "p.set_xticklabels(p.get_xticklabels(),rotation = 0)\n",
        "for container in p.containers:\n",
        "    p.bar_label(container,label_type=\"edge\",padding=6,size=18,color=\"black\",rotation=0,\n",
        "    bbox={\"boxstyle\": \"round\", \"pad\": 0.4, \"facecolor\": \"orange\", \"edgecolor\": \"#1c1c1c\", \"linewidth\" : 4, \"alpha\": 1})\n",
        "\n",
        "sns.despine(left=True, bottom=True)\n",
        "plt.show()"
      ],
      "metadata": {
        "_kg_hide-input": true,
        "execution": {
          "iopub.status.busy": "2022-11-30T16:08:21.836158Z",
          "iopub.execute_input": "2022-11-30T16:08:21.836593Z",
          "iopub.status.idle": "2022-11-30T16:08:22.632672Z",
          "shell.execute_reply.started": "2022-11-30T16:08:21.836557Z",
          "shell.execute_reply": "2022-11-30T16:08:22.631484Z"
        },
        "trusted": true,
        "id": "bF8Zf4_qn-Gs"
      },
      "execution_count": null,
      "outputs": []
    },
    {
      "cell_type": "markdown",
      "source": [
        "**Insights:**\n",
        "\n",
        "* Africa is leading in average population growth rate with a growth rate of 1.02124 followed by Asia, South America and others.\n",
        "* Europe has the lowest average population growth rate of 1.00226"
      ],
      "metadata": {
        "id": "rNjOrmQin-Gs"
      }
    },
    {
      "cell_type": "markdown",
      "source": [
        "<a id=\"9\"></a>\n",
        "# <p style=\"padding:10px;background-color:#006837;margin:0;color:#e9c46a;font-family:newtimeroman;font-size:100%;text-align:center;border-radius: 15px 50px;overflow:hidden;font-weight:500\">Country Rank</p>"
      ],
      "metadata": {
        "id": "ERpbWQx2n-Gs"
      }
    },
    {
      "cell_type": "code",
      "source": [
        "def rank(feature,color):\n",
        "\n",
        "    _, axes = plt.subplots(figsize=(20,8))\n",
        "    sns.kdeplot(x=data[data[\"Continent\"]==feature][\"Rank\"], y=data[\"2022 Population\"],edgecolor=\"#1c1c1c\",fill=True, kind=\"kde\",shade=False,height=10,color=color)\n",
        "    axes.set_title(f\"\\nCountry Rank Distribution [{feature}]\\n\",fontsize=25)\n",
        "    axes.set_ylabel(\"Population\",fontsize=20)\n",
        "    axes.set_xlabel(f\"\\nCountry Rank [{feature} Continent]\",fontsize=20)\n",
        "\n",
        "    sns.despine(left=True, bottom=True)\n",
        "    plt.show()"
      ],
      "metadata": {
        "_kg_hide-input": true,
        "execution": {
          "iopub.status.busy": "2022-11-30T16:08:43.775444Z",
          "iopub.execute_input": "2022-11-30T16:08:43.775874Z",
          "iopub.status.idle": "2022-11-30T16:08:43.784426Z",
          "shell.execute_reply.started": "2022-11-30T16:08:43.775836Z",
          "shell.execute_reply": "2022-11-30T16:08:43.78298Z"
        },
        "trusted": true,
        "id": "GwtcieR4n-Gs"
      },
      "execution_count": null,
      "outputs": []
    },
    {
      "cell_type": "code",
      "source": [
        "print(\"Let's have a look on the distribution of asian country rank :\")\n",
        "rank(\"Asia\",palette[0])"
      ],
      "metadata": {
        "_kg_hide-input": true,
        "execution": {
          "iopub.status.busy": "2022-11-30T16:08:52.204138Z",
          "iopub.execute_input": "2022-11-30T16:08:52.204635Z",
          "iopub.status.idle": "2022-11-30T16:08:52.554409Z",
          "shell.execute_reply.started": "2022-11-30T16:08:52.204597Z",
          "shell.execute_reply": "2022-11-30T16:08:52.553154Z"
        },
        "trusted": true,
        "id": "PLLc6lbQn-Gt"
      },
      "execution_count": null,
      "outputs": []
    },
    {
      "cell_type": "markdown",
      "source": [
        "**Insights:**\n",
        "\n",
        "* Most countries rank in Asia fall in between 0 to 75 and in between 100 to 130.\n"
      ],
      "metadata": {
        "id": "69AFZDTSn-Gt"
      }
    },
    {
      "cell_type": "code",
      "source": [
        "print(\"Let's have a look on the distribution of african country rank :\")\n",
        "rank(\"Africa\",palette[0])"
      ],
      "metadata": {
        "_kg_hide-input": true,
        "execution": {
          "iopub.status.busy": "2022-11-30T16:08:58.218583Z",
          "iopub.execute_input": "2022-11-30T16:08:58.220144Z",
          "iopub.status.idle": "2022-11-30T16:08:58.586054Z",
          "shell.execute_reply.started": "2022-11-30T16:08:58.220078Z",
          "shell.execute_reply": "2022-11-30T16:08:58.584671Z"
        },
        "trusted": true,
        "id": "Co_9Bc7Hn-Gt"
      },
      "execution_count": null,
      "outputs": []
    },
    {
      "cell_type": "markdown",
      "source": [
        "**Insights:**\n",
        "\n",
        "* Most countries rank in Africa fall in between 6 to 85 and others are scattered."
      ],
      "metadata": {
        "id": "VmFQu-win-Gt"
      }
    },
    {
      "cell_type": "code",
      "source": [
        "print(\"Let's have a look on the distribution of european country rank :\")\n",
        "rank(\"Europe\",palette[0])"
      ],
      "metadata": {
        "_kg_hide-input": true,
        "execution": {
          "iopub.status.busy": "2022-11-30T16:09:04.090787Z",
          "iopub.execute_input": "2022-11-30T16:09:04.091275Z",
          "iopub.status.idle": "2022-11-30T16:09:04.479511Z",
          "shell.execute_reply.started": "2022-11-30T16:09:04.091235Z",
          "shell.execute_reply": "2022-11-30T16:09:04.478154Z"
        },
        "trusted": true,
        "id": "mg_XFj3rn-Gt"
      },
      "execution_count": null,
      "outputs": []
    },
    {
      "cell_type": "markdown",
      "source": [
        "**Insights:**\n",
        "\n",
        "* Most countries rank in Europe fall in between 60 to 160 and others are scattered."
      ],
      "metadata": {
        "id": "MCf7lDh3n-Gu"
      }
    },
    {
      "cell_type": "code",
      "source": [
        "print(\"Let's have a look on the distribution of north american country rank :\")\n",
        "rank(\"North America\",palette[0])"
      ],
      "metadata": {
        "_kg_hide-input": true,
        "execution": {
          "iopub.status.busy": "2022-11-30T16:09:10.536702Z",
          "iopub.execute_input": "2022-11-30T16:09:10.537111Z",
          "iopub.status.idle": "2022-11-30T16:09:10.90733Z",
          "shell.execute_reply.started": "2022-11-30T16:09:10.537077Z",
          "shell.execute_reply": "2022-11-30T16:09:10.906136Z"
        },
        "trusted": true,
        "id": "Hd1_Ao1en-Gu"
      },
      "execution_count": null,
      "outputs": []
    },
    {
      "cell_type": "markdown",
      "source": [
        "**Insights:**\n",
        "\n",
        "* Most countries rank in North America fall in between 170 to 230 and others are scattered."
      ],
      "metadata": {
        "id": "oC2GHsf_n-Gu"
      }
    },
    {
      "cell_type": "code",
      "source": [
        "print(\"Let's have a look on the distribution of south american country rank :\")\n",
        "rank(\"South America\",palette[0])"
      ],
      "metadata": {
        "_kg_hide-input": true,
        "execution": {
          "iopub.status.busy": "2022-11-30T16:09:16.759932Z",
          "iopub.execute_input": "2022-11-30T16:09:16.760362Z",
          "iopub.status.idle": "2022-11-30T16:09:17.136703Z",
          "shell.execute_reply.started": "2022-11-30T16:09:16.760328Z",
          "shell.execute_reply": "2022-11-30T16:09:17.134926Z"
        },
        "trusted": true,
        "id": "AT5I-i1ln-Gu"
      },
      "execution_count": null,
      "outputs": []
    },
    {
      "cell_type": "markdown",
      "source": [
        "**Insights:**\n",
        "\n",
        "* Most countries rank in South America fall in between 20 to 110 and others are scattered."
      ],
      "metadata": {
        "id": "Gvjg1ADYn-Gu"
      }
    },
    {
      "cell_type": "code",
      "source": [
        "print(\"Let's have a look on the distribution of oceanian country rank :\")\n",
        "rank(\"Oceania\",palette[0])"
      ],
      "metadata": {
        "_kg_hide-input": true,
        "execution": {
          "iopub.status.busy": "2022-11-30T16:09:34.103139Z",
          "iopub.execute_input": "2022-11-30T16:09:34.103626Z",
          "iopub.status.idle": "2022-11-30T16:09:34.471087Z",
          "shell.execute_reply.started": "2022-11-30T16:09:34.103589Z",
          "shell.execute_reply": "2022-11-30T16:09:34.469026Z"
        },
        "trusted": true,
        "id": "llNUOn9In-Gu"
      },
      "execution_count": null,
      "outputs": []
    },
    {
      "cell_type": "markdown",
      "source": [
        "**Insights:**\n",
        "\n",
        "* Most countries rank in Oceania fall in between 180 to 230 and others are scattered."
      ],
      "metadata": {
        "id": "Y3QxugF5n-Gv"
      }
    },
    {
      "cell_type": "markdown",
      "source": [
        "<a id=\"10\"></a>\n",
        "# <p style=\"padding:10px;background-color:#006837;margin:0;color:#e9c46a;font-family:newtimeroman;font-size:100%;text-align:center;border-radius: 15px 50px;overflow:hidden;font-weight:500\">Correlation Map</p>"
      ],
      "metadata": {
        "id": "rP7Enl96n-Gv"
      }
    },
    {
      "cell_type": "code",
      "source": [
        "catcol = [\"CCA3\",\"Country/Territory\",\"Capital\",\"Continent\"]\n",
        "le = LabelEncoder()\n",
        "for col in catcol:\n",
        "        data[col] = le.fit_transform(data[col])\n",
        "\n",
        "\n",
        "plt.subplots(figsize =(20, 20))\n",
        "\n",
        "sns.heatmap(data.corr(), cmap = palette_cmap, square=True, cbar_kws=dict(shrink =.82),\n",
        "            annot=True, vmin=-1, vmax=1, linewidths=3,linecolor='black',annot_kws=dict(fontsize =12))\n",
        "plt.title(\"Pearson Correlation Of Features\\n\", fontsize=25)\n",
        "plt.xticks(rotation=90)\n",
        "plt.show()"
      ],
      "metadata": {
        "_kg_hide-input": true,
        "execution": {
          "iopub.status.busy": "2022-11-30T16:09:52.364801Z",
          "iopub.execute_input": "2022-11-30T16:09:52.365237Z",
          "iopub.status.idle": "2022-11-30T16:09:54.132116Z",
          "shell.execute_reply.started": "2022-11-30T16:09:52.3652Z",
          "shell.execute_reply": "2022-11-30T16:09:54.130692Z"
        },
        "trusted": true,
        "id": "DQS8OraSn-Gv"
      },
      "execution_count": null,
      "outputs": []
    },
    {
      "cell_type": "markdown",
      "source": [
        "**Insights:**\n",
        "\n",
        "* High correlation between population and world population percentage. Also high correlation between country and CCA3 code as expected.\n",
        "* Medium correlation between area and population, area and world population percentage.\n",
        "* Medium inverse correlation between growth rate and continent, rank and world population percentage, rank and area, rank and population."
      ],
      "metadata": {
        "id": "cApf7Mb4n-Gv"
      }
    },
    {
      "cell_type": "markdown",
      "source": [
        "<a id=\"11\"></a>\n",
        "# <p style=\"padding:10px;background-color:#006837;margin:0;color:#e9c46a;font-family:newtimeroman;font-size:100%;text-align:center;border-radius: 15px 50px;overflow:hidden;font-weight:500\">Thank You</p>\n",
        "\n",
        "\n",
        "\n",
        "<p>\n",
        "<h3><font color=\"#006837\">If you liked this notebook please upvote. Your feedback will be highly appreciated.</font></h3>\n",
        "\n",
        "<br>\n",
        "\n",
        "<h4><b>Author :</b></h4>\n",
        "\n",
        "<h3>Hasib Al Muzdadid</h3>\n",
        "\n",
        "<b>👉Shoot me mails :</b> muzdadid@gmail.com<br>\n",
        "<b>👉Connect on LinkedIn :</b> https://www.linkedin.com/in/hasibalmuzdadid <br>\n",
        "<b>👉Explore Github :</b> https://github.com/HasibAlMuzdadid    \n",
        "    \n",
        "</p>"
      ],
      "metadata": {
        "id": "F8noqt6Zn-Gv"
      }
    }
  ]
}